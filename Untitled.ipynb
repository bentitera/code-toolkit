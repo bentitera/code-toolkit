{
 "cells": [
  {
   "cell_type": "code",
   "execution_count": 1,
   "metadata": {},
   "outputs": [],
   "source": [
    "import requests\n",
    "from bs4 import BeautifulSoup"
   ]
  },
  {
   "cell_type": "code",
   "execution_count": 2,
   "metadata": {},
   "outputs": [],
   "source": [
    "url = 'https://www.gq.com/story/all-of-brett-kavanaughs-lies'"
   ]
  },
  {
   "cell_type": "code",
   "execution_count": 3,
   "metadata": {},
   "outputs": [],
   "source": [
    "response = requests.get(url)"
   ]
  },
  {
   "cell_type": "code",
   "execution_count": 4,
   "metadata": {},
   "outputs": [],
   "source": [
    "soup = BeautifulSoup(response.text, 'html.parser')"
   ]
  },
  {
   "cell_type": "code",
   "execution_count": 7,
   "metadata": {},
   "outputs": [
    {
     "data": {
      "text/plain": [
       "'\"No president has ever consulted more widely or talked with more people from more backgrounds to seek input about a Supreme Court nomination.\"'"
      ]
     },
     "execution_count": 7,
     "metadata": {},
     "output_type": "execute_result"
    }
   ],
   "source": [
    "soup.find('div', {'class': \"embed h2\"}).text"
   ]
  },
  {
   "cell_type": "code",
   "execution_count": 8,
   "metadata": {},
   "outputs": [],
   "source": [
    "lies = soup.find_all('div', {'class': \"embed h2\"})"
   ]
  },
  {
   "cell_type": "code",
   "execution_count": 9,
   "metadata": {},
   "outputs": [
    {
     "data": {
      "text/plain": [
       "15"
      ]
     },
     "execution_count": 9,
     "metadata": {},
     "output_type": "execute_result"
    }
   ],
   "source": [
    "len(lies)"
   ]
  },
  {
   "cell_type": "code",
   "execution_count": 10,
   "metadata": {},
   "outputs": [
    {
     "data": {
      "text/plain": [
       "<div class=\"embed h2\" data-reactid=\"155\"><h2><strong>\"No president has ever consulted more widely or talked with more people from more backgrounds to seek input about a Supreme Court nomination.\"</strong></h2></div>"
      ]
     },
     "execution_count": 10,
     "metadata": {},
     "output_type": "execute_result"
    }
   ],
   "source": [
    "lies[0]"
   ]
  },
  {
   "cell_type": "code",
   "execution_count": 11,
   "metadata": {},
   "outputs": [
    {
     "data": {
      "text/plain": [
       "[<div class=\"embed h2\" data-reactid=\"155\"><h2><strong>\"No president has ever consulted more widely or talked with more people from more backgrounds to seek input about a Supreme Court nomination.\"</strong></h2></div>,\n",
       " <div class=\"embed h2\" data-reactid=\"158\"><h2><strong>\"I grew up in a city plagued by gun violence and gang violence and drug violence.\"</strong></h2></div>,\n",
       " <div class=\"embed h2\" data-reactid=\"161\"><h2><strong>\"I went to an all-boys Catholic high school, a Jesuit high school, where I was focused on academics and athletics, going to church every Sunday at Little Flower, working on my service projects, and friendship, friendship with my fellow classmates and friendship with girls from the local all-girls Catholic schools.\"</strong></h2></div>,\n",
       " <div class=\"embed h2\" data-reactid=\"164\"><h2><strong>\"If such as thing had a happened, it would&amp;apos;ve been the talk of campus. The women I knew in college and the men I knew in college said that it&amp;apos;s inconceivable that I could&amp;apos;ve done such a thing.\"</strong></h2></div>,\n",
       " <div class=\"embed h2\" data-reactid=\"167\"><h2><strong>\"I&amp;apos;ve always treated women with dignity and respect. Listen to…the women who have known me since high school, the 65 who overnight signed a letter from high school saying I always treated them with dignity and respect.\"</strong></h2></div>,\n",
       " <div class=\"embed h2\" data-reactid=\"170\"><h2><strong>\"That yearbook reference was clumsily intended to show affection, and that she was one of us…It was not related to sex.\"</strong></h2></div>,\n",
       " <div class=\"embed h2\" data-reactid=\"174\"><h2><strong>\"That refers to flatulence. We were 16.\"</strong></h2></div>,\n",
       " <div class=\"embed h2\" data-reactid=\"177\"><h2><strong>\"Drinking game.\"</strong></h2></div>,\n",
       " <div class=\"embed h2\" data-reactid=\"180\"><h2><strong>\"I&amp;apos;m known to have a weak stomach.\"</strong></h2></div>,\n",
       " <div class=\"embed h2\" data-reactid=\"183\"><h2><strong>\"But I did not drink beer to the point of blacking out… Passed out would be—no, but I&amp;apos;ve gone to sleep, but—but I&amp;apos;ve never blacked out.\"</strong></h2></div>,\n",
       " <div class=\"embed h2\" data-reactid=\"187\"><h2><strong>\"Dr. Ford&amp;apos;s allegation is not merely uncorroborated, it is refuted by the very people she says were there, including by a longtime friend of hers.\"</strong></h2></div>,\n",
       " <div class=\"embed h2\" data-reactid=\"190\"><h2><strong>\"No. Again, I was not aware of that matter in any way whatsoever until I learned it in the media.\"</strong></h2></div>,\n",
       " <div class=\"embed h2\" data-reactid=\"193\"><h2><strong>\"I&amp;apos;m not aware of the memos, I never saw such memos that I think you&amp;apos;re referring to. I mean, I don&amp;apos;t know what the universe of memos might be, but I do know that I never received any memos and was not aware of any such memos.\"</strong></h2></div>,\n",
       " <div class=\"embed h2\" data-reactid=\"196\"><h2><strong>\"I was not involved and am not involved in the questions about the rules governing detention of combatants or—and so I do not have the involvement with that.\"</strong></h2></div>,\n",
       " <div class=\"embed h2\" data-reactid=\"199\"><h2><strong>\"I do not remember any such comments.\"</strong></h2></div>]"
      ]
     },
     "execution_count": 11,
     "metadata": {},
     "output_type": "execute_result"
    }
   ],
   "source": [
    "lies\n"
   ]
  },
  {
   "cell_type": "code",
   "execution_count": 12,
   "metadata": {},
   "outputs": [],
   "source": [
    "lyes = []\n",
    "for lie in lies:\n",
    "    lyes.append(lie.text)"
   ]
  },
  {
   "cell_type": "code",
   "execution_count": 13,
   "metadata": {},
   "outputs": [
    {
     "data": {
      "text/plain": [
       "['\"No president has ever consulted more widely or talked with more people from more backgrounds to seek input about a Supreme Court nomination.\"',\n",
       " '\"I grew up in a city plagued by gun violence and gang violence and drug violence.\"',\n",
       " '\"I went to an all-boys Catholic high school, a Jesuit high school, where I was focused on academics and athletics, going to church every Sunday at Little Flower, working on my service projects, and friendship, friendship with my fellow classmates and friendship with girls from the local all-girls Catholic schools.\"',\n",
       " '\"If such as thing had a happened, it would&apos;ve been the talk of campus. The women I knew in college and the men I knew in college said that it&apos;s inconceivable that I could&apos;ve done such a thing.\"',\n",
       " '\"I&apos;ve always treated women with dignity and respect. Listen to…the women who have known me since high school, the 65 who overnight signed a letter from high school saying I always treated them with dignity and respect.\"',\n",
       " '\"That yearbook reference was clumsily intended to show affection, and that she was one of us…It was not related to sex.\"',\n",
       " '\"That refers to flatulence. We were 16.\"',\n",
       " '\"Drinking game.\"',\n",
       " '\"I&apos;m known to have a weak stomach.\"',\n",
       " '\"But I did not drink beer to the point of blacking out… Passed out would be—no, but I&apos;ve gone to sleep, but—but I&apos;ve never blacked out.\"',\n",
       " '\"Dr. Ford&apos;s allegation is not merely uncorroborated, it is refuted by the very people she says were there, including by a longtime friend of hers.\"',\n",
       " '\"No. Again, I was not aware of that matter in any way whatsoever until I learned it in the media.\"',\n",
       " '\"I&apos;m not aware of the memos, I never saw such memos that I think you&apos;re referring to. I mean, I don&apos;t know what the universe of memos might be, but I do know that I never received any memos and was not aware of any such memos.\"',\n",
       " '\"I was not involved and am not involved in the questions about the rules governing detention of combatants or—and so I do not have the involvement with that.\"',\n",
       " '\"I do not remember any such comments.\"']"
      ]
     },
     "execution_count": 13,
     "metadata": {},
     "output_type": "execute_result"
    }
   ],
   "source": [
    "lyes"
   ]
  },
  {
   "cell_type": "code",
   "execution_count": 27,
   "metadata": {},
   "outputs": [
    {
     "data": {
      "text/plain": [
       "<list_iterator at 0x10a1472b0>"
      ]
     },
     "execution_count": 27,
     "metadata": {},
     "output_type": "execute_result"
    }
   ],
   "source": [
    "soup.find('div', {'class': 'embed p'}).children"
   ]
  },
  {
   "cell_type": "code",
   "execution_count": 18,
   "metadata": {},
   "outputs": [
    {
     "data": {
      "text/plain": [
       "<a class=\"newsletter-privacy-policy-link\" data-reactid=\"29\" href=\"http://www.condenast.com/privacy-policy#privacypolicy\" rel=\"noopener noreferrer\" target=\"_blank\">Privacy Policy</a>"
      ]
     },
     "execution_count": 18,
     "metadata": {},
     "output_type": "execute_result"
    }
   ],
   "source": [
    "soup.find('a')"
   ]
  },
  {
   "cell_type": "code",
   "execution_count": 21,
   "metadata": {},
   "outputs": [
    {
     "data": {
      "text/plain": [
       "<strong>\"No president has ever consulted more widely or talked with more people from more backgrounds to seek input about a Supreme Court nomination.\"</strong>"
      ]
     },
     "execution_count": 21,
     "metadata": {},
     "output_type": "execute_result"
    }
   ],
   "source": [
    "soup.strong"
   ]
  },
  {
   "cell_type": "code",
   "execution_count": null,
   "metadata": {},
   "outputs": [],
   "source": [
    "soup"
   ]
  },
  {
   "cell_type": "code",
   "execution_count": 29,
   "metadata": {},
   "outputs": [
    {
     "data": {
      "text/plain": [
       "<p>It is not that often that four of a judicial nominee&amp;apos;s high school and college classmates go on the record to question his honesty. But so it goes with Brett Kavanaugh, Donald Trump&amp;apos;s post-truth Supreme Court nominee.</p>"
      ]
     },
     "execution_count": 29,
     "metadata": {},
     "output_type": "execute_result"
    }
   ],
   "source": [
    "soup.find('div', {'class': 'embed p'}).p"
   ]
  },
  {
   "cell_type": "code",
   "execution_count": 32,
   "metadata": {},
   "outputs": [
    {
     "data": {
      "text/plain": [
       "<div class=\"embed p\" data-reactid=\"149\"><p>It is not that often that four of a judicial nominee&amp;apos;s high school and college classmates go on the record to question his honesty. But so it goes with Brett Kavanaugh, Donald Trump&amp;apos;s post-truth Supreme Court nominee.</p></div>"
      ]
     },
     "execution_count": 32,
     "metadata": {},
     "output_type": "execute_result"
    }
   ],
   "source": [
    "soup.find('div', {'class': 'col article-content'}).div"
   ]
  },
  {
   "cell_type": "code",
   "execution_count": null,
   "metadata": {},
   "outputs": [],
   "source": []
  }
 ],
 "metadata": {
  "kernelspec": {
   "display_name": "Python 3",
   "language": "python",
   "name": "python3"
  },
  "language_info": {
   "codemirror_mode": {
    "name": "ipython",
    "version": 3
   },
   "file_extension": ".py",
   "mimetype": "text/x-python",
   "name": "python",
   "nbconvert_exporter": "python",
   "pygments_lexer": "ipython3",
   "version": "3.6.6"
  }
 },
 "nbformat": 4,
 "nbformat_minor": 2
}
