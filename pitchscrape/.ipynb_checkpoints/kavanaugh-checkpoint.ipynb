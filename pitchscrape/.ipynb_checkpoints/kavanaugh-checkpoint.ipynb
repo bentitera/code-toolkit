{
 "cells": [
  {
   "cell_type": "code",
   "execution_count": 86,
   "metadata": {},
   "outputs": [],
   "source": [
    "import requests\n",
    "from bs4 import BeautifulSoup"
   ]
  },
  {
   "cell_type": "code",
   "execution_count": 87,
   "metadata": {},
   "outputs": [],
   "source": [
    "url = 'https://www.washingtonpost.com/news/national/wp/2018/09/27/kavanaugh-hearing-transcript/?noredirect=on&utm_term=.3ced9be6ecfc'"
   ]
  },
  {
   "cell_type": "code",
   "execution_count": 88,
   "metadata": {},
   "outputs": [],
   "source": [
    "res = requests.get(url)"
   ]
  },
  {
   "cell_type": "code",
   "execution_count": 89,
   "metadata": {},
   "outputs": [],
   "source": [
    "soup = BeautifulSoup(res.text, 'html.parser')"
   ]
  },
  {
   "cell_type": "code",
   "execution_count": 90,
   "metadata": {},
   "outputs": [
    {
     "data": {
      "text/plain": [
       "<p class=\"notify-txt\">Desktop notifications are on   | <a class=\"turn-off\" href=\"\">Turn off</a> </p>"
      ]
     },
     "execution_count": 90,
     "metadata": {},
     "output_type": "execute_result"
    }
   ],
   "source": [
    "soup.find('p')"
   ]
  },
  {
   "cell_type": "code",
   "execution_count": 91,
   "metadata": {},
   "outputs": [],
   "source": [
    "ps = soup.find_all('p')"
   ]
  },
  {
   "cell_type": "code",
   "execution_count": 92,
   "metadata": {},
   "outputs": [
    {
     "name": "stdout",
     "output_type": "stream",
     "text": [
      "[*] GRASSLEY: This morning we continue our hearing on the nomination of Judge Brett Kavanaugh to serve as associate justice on our Supreme Court. We will hear from two witnesses, Dr. Christine Blasey Ford and Judge Kavanaugh. Thanks, of course, to Dr. Ford and Judge Kavanaugh for accepting our committee’s invitation to testify and also thank them for their volunteering to testify before we even invited.\n",
      "GRASSLEY: Both Dr. Ford and Judge Kavanaugh have been through a terrible couple weeks. They and their families have received vile threats. What they have endured ought to be considered by all of us as unacceptable and a poor reflection on the state of civility in our democracy.\n",
      "So I want to apologize to you both for the way you’ve been treated. And I intend, hopefully, for today’s hearing to be safe, comfortable and dignified for both of our witnesses. I hope my colleagues will join me in this effort of a show of civility.\n",
      "With that said, I lament that this hearing — how this hearing has come about.\n",
      "On July the 9th, 2018, the president announced Judge Kavanaugh’s nomination to serve on the Supreme Court. Judge Kavanaugh has served on the most important federal appellate court for 12 years. Before that, he held some of the most sensitive positions in the federal government. The president added Judge Kavanaugh to his short list of Supreme Court more than nine months ago, in November 2017.\n",
      "GRASSLEY: As part of judge Kavanaugh’s nomination to the Supreme Court, the FBI conducted its sixth full field background investigation of Judge Kavanaugh since 1993, 25 years ago. Nowhere in any of these six FBI reports, which committee investigators have reviewed on a bipartisan basis, was there a whiff of any issue — any issue at all related in any way to inappropriate sexual behavior.\n",
      "Dr. Ford first raised her allegations in a secret letter to the ranking member nearly two months ago in July. This letter was secret from July 30th, September 13th to — no, July 30th until September 13th when I first heard about it.\n",
      "The ranking member took no action. The letter wasn’t shared with me or colleagues or my staff. These allegations could have been investigated in a way that maintained the confidentiality that Dr. Ford requested.\n",
      "Before his hearing, Judge Kavanaugh met privately with 65 senators, including the ranking member. But the ranking member didn’t ask Judge Kavanaugh about the allegations when she met with him privately in August.\n",
      "The Senate Judiciary Committee held its four-day public hearing from September 4th to September 7th. Judge Kavanaugh testified for more than 32 hours in public. We held a closed session for members to ask sensitive on that — on the last evening, which the ranking member did not attend.\n",
      "Judge Kavanaugh answered nearly 1,300 written questions submitted by senators after the hearing, more than all prior Supreme Court nominees.\n",
      "Throughout this period, we did not know about the ranking member’s secret evidence.\n",
      "Then, only at an 11th hour, on the eve of Judge Kavanaugh’s confirmation vote, did the ranking member refer the allegations to the FBI. And then, sadly, the allegations were leaked to the press. And that’s where Dr. Ford was mistreated.\n",
      "This is a shameful way to treat our witness, who insisted on confidentiality, and — and, of course, Judge Kavanaugh, who has had to address these allegations in the midst of a media circus.\n",
      "When I received Dr. Ford’s letter on September the 13th, my staff and I recognized the seriousness of these allegations and immediately began our committee’s investigation, consistent with the way the committee has handled such allegations in the past.\n",
      "Every step of the way the Democratic side refused to participate in what should have been a bipartisan investigation. And as far as I know on all of our judgeships throughout at least the last four years — or three years, that’s been the way it’s been handled.\n",
      "After Dr. Ford’s identity became public, my staff contacted all the individuals she said attended the 1982 party described in the Washington Post article.\n",
      "Judge Kavanaugh immediately submitted to an interview under penalty of felony for any knowingly false statements. He denied the allegations categorically.\n",
      "GRASSLEY: Democratic staff was invited to participate and could have asked any questions they wanted to, but they declined. Which leads me then to wonder: If they’re really concerned with going to the truth, why wouldn’t you want to talk to the accused?\n",
      "The process and procedure is what the committee always does when we receive allegations of wrongdoing.\n",
      "My staff reached out to other individuals allegedly at the party: Mark Judge, Patrick Smyth, Leland Keyser. All three submitted statements to the Senate under — under penalty of felony, denying any knowledge of the events described by Dr. Ford.\n",
      "Dr. Ford’s lifelong friend, Dr. — Miss Keyser, stated she doesn’t know Judge Kavanaugh and doesn’t recall ever attending a party with him.\n",
      "My staff made repeated requests to interview Dr. Ford during the past 11 days, even volunteering to fly to California to take her testimony, but her attorneys refused to prevent — present her allegations to Congress. I never — I nevertheless honored her request for a public hearing, so Dr. Ford today has the opportunity to prevent (sic) her allegations under oath.\n",
      "As you can see, the Judiciary Committee was able to conduct thorough investigations into allegation — thorough investigations into allegations.\n",
      "Some of my colleagues, consistent with their stated desires to obstruct Kavanaugh’s nomination by any means precisely — by any means necessary, pushed for FBI investigations into the allegations. But I have no authority to force the executive branch agency to conduct an investigation into a matter it considers to be closed. Moreover, once the allegations become — became public, it was easy to identify all the alleged witnesses and conduct our own investigations.\n"
     ]
    }
   ],
   "source": [
    "for i in ps[30:55]:\n",
    "    print(i.text)"
   ]
  },
  {
   "cell_type": "code",
   "execution_count": 22,
   "metadata": {},
   "outputs": [],
   "source": [
    "a = []\n",
    "for i in ps[30:]:\n",
    "    a.append(str(i.text))"
   ]
  },
  {
   "cell_type": "code",
   "execution_count": 25,
   "metadata": {},
   "outputs": [
    {
     "name": "stderr",
     "output_type": "stream",
     "text": [
      "/anaconda3/lib/python3.6/importlib/_bootstrap.py:219: RuntimeWarning: numpy.dtype size changed, may indicate binary incompatibility. Expected 96, got 88\n",
      "  return f(*args, **kwds)\n"
     ]
    }
   ],
   "source": [
    "import pandas as pd"
   ]
  },
  {
   "cell_type": "code",
   "execution_count": 28,
   "metadata": {},
   "outputs": [],
   "source": [
    "df = pd.DataFrame({'body': a})"
   ]
  },
  {
   "cell_type": "code",
   "execution_count": 29,
   "metadata": {},
   "outputs": [],
   "source": [
    "from textblob import TextBlob"
   ]
  },
  {
   "cell_type": "code",
   "execution_count": 31,
   "metadata": {},
   "outputs": [
    {
     "data": {
      "text/html": [
       "<div>\n",
       "<style scoped>\n",
       "    .dataframe tbody tr th:only-of-type {\n",
       "        vertical-align: middle;\n",
       "    }\n",
       "\n",
       "    .dataframe tbody tr th {\n",
       "        vertical-align: top;\n",
       "    }\n",
       "\n",
       "    .dataframe thead th {\n",
       "        text-align: right;\n",
       "    }\n",
       "</style>\n",
       "<table border=\"1\" class=\"dataframe\">\n",
       "  <thead>\n",
       "    <tr style=\"text-align: right;\">\n",
       "      <th></th>\n",
       "      <th>body</th>\n",
       "    </tr>\n",
       "  </thead>\n",
       "  <tbody>\n",
       "    <tr>\n",
       "      <th>0</th>\n",
       "      <td>[*] GRASSLEY: This morning we continue our hea...</td>\n",
       "    </tr>\n",
       "    <tr>\n",
       "      <th>1</th>\n",
       "      <td>GRASSLEY: Both Dr. Ford and Judge Kavanaugh ha...</td>\n",
       "    </tr>\n",
       "    <tr>\n",
       "      <th>2</th>\n",
       "      <td>So I want to apologize to you both for the way...</td>\n",
       "    </tr>\n",
       "    <tr>\n",
       "      <th>3</th>\n",
       "      <td>With that said, I lament that this hearing — h...</td>\n",
       "    </tr>\n",
       "    <tr>\n",
       "      <th>4</th>\n",
       "      <td>On July the 9th, 2018, the president announced...</td>\n",
       "    </tr>\n",
       "  </tbody>\n",
       "</table>\n",
       "</div>"
      ],
      "text/plain": [
       "                                                body\n",
       "0  [*] GRASSLEY: This morning we continue our hea...\n",
       "1  GRASSLEY: Both Dr. Ford and Judge Kavanaugh ha...\n",
       "2  So I want to apologize to you both for the way...\n",
       "3  With that said, I lament that this hearing — h...\n",
       "4  On July the 9th, 2018, the president announced..."
      ]
     },
     "execution_count": 31,
     "metadata": {},
     "output_type": "execute_result"
    }
   ],
   "source": [
    "df.head()"
   ]
  },
  {
   "cell_type": "code",
   "execution_count": 32,
   "metadata": {},
   "outputs": [
    {
     "data": {
      "text/plain": [
       "2846"
      ]
     },
     "execution_count": 32,
     "metadata": {},
     "output_type": "execute_result"
    }
   ],
   "source": [
    "len(df)"
   ]
  },
  {
   "cell_type": "code",
   "execution_count": 36,
   "metadata": {},
   "outputs": [],
   "source": [
    "kav = df[df.body.str.contains('KAVANAUGH')]"
   ]
  },
  {
   "cell_type": "code",
   "execution_count": 37,
   "metadata": {},
   "outputs": [
    {
     "data": {
      "text/plain": [
       "Int64Index([1310, 1334, 1336, 1342, 1344, 1346, 1447, 1449, 1456, 1458,\n",
       "            ...\n",
       "            2785, 2787, 2801, 2803, 2806, 2809, 2811, 2813, 2815, 2817],\n",
       "           dtype='int64', length=468)"
      ]
     },
     "execution_count": 37,
     "metadata": {},
     "output_type": "execute_result"
    }
   ],
   "source": [
    "kav.index"
   ]
  },
  {
   "cell_type": "code",
   "execution_count": 38,
   "metadata": {},
   "outputs": [],
   "source": [
    "qindex = []\n",
    "for i in kav.index:\n",
    "    qindex.append(i - 1)"
   ]
  },
  {
   "cell_type": "code",
   "execution_count": 50,
   "metadata": {},
   "outputs": [
    {
     "data": {
      "text/html": [
       "<div>\n",
       "<style scoped>\n",
       "    .dataframe tbody tr th:only-of-type {\n",
       "        vertical-align: middle;\n",
       "    }\n",
       "\n",
       "    .dataframe tbody tr th {\n",
       "        vertical-align: top;\n",
       "    }\n",
       "\n",
       "    .dataframe thead th {\n",
       "        text-align: right;\n",
       "    }\n",
       "</style>\n",
       "<table border=\"1\" class=\"dataframe\">\n",
       "  <thead>\n",
       "    <tr style=\"text-align: right;\">\n",
       "      <th></th>\n",
       "      <th>body</th>\n",
       "    </tr>\n",
       "  </thead>\n",
       "  <tbody>\n",
       "    <tr>\n",
       "      <th>1309</th>\n",
       "      <td>Dr. Ford, Dr. Ford, I — I can only speak as on...</td>\n",
       "    </tr>\n",
       "    <tr>\n",
       "      <th>1333</th>\n",
       "      <td>RACHEL MITCHELL, STAFF COUNSEL</td>\n",
       "    </tr>\n",
       "    <tr>\n",
       "      <th>1335</th>\n",
       "      <td>[*] GRASSLEY: Judge Kavanaugh, we welcome you....</td>\n",
       "    </tr>\n",
       "    <tr>\n",
       "      <th>1341</th>\n",
       "      <td>Would you please rise, sir?</td>\n",
       "    </tr>\n",
       "    <tr>\n",
       "      <th>1343</th>\n",
       "      <td>GRASSLEY: Do you affirm that the testimony you...</td>\n",
       "    </tr>\n",
       "    <tr>\n",
       "      <th>1345</th>\n",
       "      <td>GRASSLEY: Yeah. And like we — like we offered ...</td>\n",
       "    </tr>\n",
       "    <tr>\n",
       "      <th>1446</th>\n",
       "      <td>I’d like to go over a couple of guidelines for...</td>\n",
       "    </tr>\n",
       "    <tr>\n",
       "      <th>1448</th>\n",
       "      <td>MITCHELL: OK. If I ask a question…</td>\n",
       "    </tr>\n",
       "    <tr>\n",
       "      <th>1455</th>\n",
       "      <td>MITCHELL: And you have that, as well, Judge Ka...</td>\n",
       "    </tr>\n",
       "    <tr>\n",
       "      <th>1457</th>\n",
       "      <td>MITCHELL: OK. First of all, have you been give...</td>\n",
       "    </tr>\n",
       "    <tr>\n",
       "      <th>1459</th>\n",
       "      <td>MITCHELL: Has anyone told you the questions th...</td>\n",
       "    </tr>\n",
       "    <tr>\n",
       "      <th>1462</th>\n",
       "      <td>MITCHELL: Have you had a chance to review it?</td>\n",
       "    </tr>\n",
       "    <tr>\n",
       "      <th>1465</th>\n",
       "      <td>I’d like to point out two specific parts. Amon...</td>\n",
       "    </tr>\n",
       "    <tr>\n",
       "      <th>1468</th>\n",
       "      <td>Dr. Ford has stated that somewhere between fiv...</td>\n",
       "    </tr>\n",
       "    <tr>\n",
       "      <th>1470</th>\n",
       "      <td>MITCHELL: How do you know him?</td>\n",
       "    </tr>\n",
       "    <tr>\n",
       "      <th>1472</th>\n",
       "      <td>MITCHELL: What is your relationship with him l...</td>\n",
       "    </tr>\n",
       "    <tr>\n",
       "      <th>1474</th>\n",
       "      <td>MITCHELL: And how did you know Patrick Smyth?</td>\n",
       "    </tr>\n",
       "    <tr>\n",
       "      <th>1476</th>\n",
       "      <td>MITCHELL: What’s your relationship like with h...</td>\n",
       "    </tr>\n",
       "    <tr>\n",
       "      <th>1478</th>\n",
       "      <td>MITCHELL: OK. Do you know Leland Ingham or Lel...</td>\n",
       "    </tr>\n",
       "    <tr>\n",
       "      <th>1480</th>\n",
       "      <td>MITCHELL: Similar to your statements about kno...</td>\n",
       "    </tr>\n",
       "    <tr>\n",
       "      <th>1484</th>\n",
       "      <td>FEINSTEIN: Judge Kavanaugh, it’s my understand...</td>\n",
       "    </tr>\n",
       "    <tr>\n",
       "      <th>1486</th>\n",
       "      <td>FEINSTEIN: All three of these women have asked...</td>\n",
       "    </tr>\n",
       "    <tr>\n",
       "      <th>1489</th>\n",
       "      <td>FEINSTEIN: And — and I’m — and I’m very (ph)…</td>\n",
       "    </tr>\n",
       "    <tr>\n",
       "      <th>1491</th>\n",
       "      <td>FEINSTEIN: … But the question is…</td>\n",
       "    </tr>\n",
       "    <tr>\n",
       "      <th>1493</th>\n",
       "      <td>FEINSTEIN: … No (ph). And the terrible and har...</td>\n",
       "    </tr>\n",
       "    <tr>\n",
       "      <th>1497</th>\n",
       "      <td>FEINSTEIN: Well, the difficult thing is that i...</td>\n",
       "    </tr>\n",
       "    <tr>\n",
       "      <th>1499</th>\n",
       "      <td>FEINSTEIN: … is what they say.</td>\n",
       "    </tr>\n",
       "    <tr>\n",
       "      <th>1501</th>\n",
       "      <td>FEINSTEIN: Well…</td>\n",
       "    </tr>\n",
       "    <tr>\n",
       "      <th>1503</th>\n",
       "      <td>FEINSTEIN: … And — and what you’re saying, if ...</td>\n",
       "    </tr>\n",
       "    <tr>\n",
       "      <th>1505</th>\n",
       "      <td>FEINSTEIN: Would you like to say more about it?</td>\n",
       "    </tr>\n",
       "    <tr>\n",
       "      <th>...</th>\n",
       "      <td>...</td>\n",
       "    </tr>\n",
       "    <tr>\n",
       "      <th>2678</th>\n",
       "      <td>BOOKER: … she’s not a political pawn.</td>\n",
       "    </tr>\n",
       "    <tr>\n",
       "      <th>2680</th>\n",
       "      <td>BOOKER: And — and — and I understand. But she ...</td>\n",
       "    </tr>\n",
       "    <tr>\n",
       "      <th>2682</th>\n",
       "      <td>BOOKER: … Your family has gone through hell. H...</td>\n",
       "    </tr>\n",
       "    <tr>\n",
       "      <th>2684</th>\n",
       "      <td>BOOKER: … You said — I’m sorry. So you said th...</td>\n",
       "    </tr>\n",
       "    <tr>\n",
       "      <th>2687</th>\n",
       "      <td>She did coordinate in 2013, ’16, 2017, before ...</td>\n",
       "    </tr>\n",
       "    <tr>\n",
       "      <th>2691</th>\n",
       "      <td>Do you think that people who believe Dr. Ford ...</td>\n",
       "    </tr>\n",
       "    <tr>\n",
       "      <th>2693</th>\n",
       "      <td>BOOKER: That is fair.</td>\n",
       "    </tr>\n",
       "    <tr>\n",
       "      <th>2697</th>\n",
       "      <td>And — and that’s what I’m just asking you, is ...</td>\n",
       "    </tr>\n",
       "    <tr>\n",
       "      <th>2753</th>\n",
       "      <td>GRASSLEY: Senator — or, Judge, since there was...</td>\n",
       "    </tr>\n",
       "    <tr>\n",
       "      <th>2756</th>\n",
       "      <td>HARRIS: Thank you. Judge Kavanaugh, have you t...</td>\n",
       "    </tr>\n",
       "    <tr>\n",
       "      <th>2758</th>\n",
       "      <td>HARRIS: Thank you — thank you.</td>\n",
       "    </tr>\n",
       "    <tr>\n",
       "      <th>2760</th>\n",
       "      <td>HARRIS: So you’ve not taken one?</td>\n",
       "    </tr>\n",
       "    <tr>\n",
       "      <th>2764</th>\n",
       "      <td>So I’m going to ask you one last time, are you...</td>\n",
       "    </tr>\n",
       "    <tr>\n",
       "      <th>2766</th>\n",
       "      <td>HARRIS: And I’ve heard you say that —</td>\n",
       "    </tr>\n",
       "    <tr>\n",
       "      <th>2768</th>\n",
       "      <td>HARRIS: But I’ve not heard you answer a very s...</td>\n",
       "    </tr>\n",
       "    <tr>\n",
       "      <th>2770</th>\n",
       "      <td>HARRIS: Sir, it’s — I don’t want to debate wit...</td>\n",
       "    </tr>\n",
       "    <tr>\n",
       "      <th>2772</th>\n",
       "      <td>HARRIS: Sir, as it relates to the recent alleg...</td>\n",
       "    </tr>\n",
       "    <tr>\n",
       "      <th>2776</th>\n",
       "      <td>How do you reconcile your statement about a co...</td>\n",
       "    </tr>\n",
       "    <tr>\n",
       "      <th>2778</th>\n",
       "      <td>HARRIS: OK. And then, do you agree that it is ...</td>\n",
       "    </tr>\n",
       "    <tr>\n",
       "      <th>2782</th>\n",
       "      <td>HARRIS: I only have a few seconds left and I’l...</td>\n",
       "    </tr>\n",
       "    <tr>\n",
       "      <th>2784</th>\n",
       "      <td>HARRIS: Thank you, I have nothing else…</td>\n",
       "    </tr>\n",
       "    <tr>\n",
       "      <th>2786</th>\n",
       "      <td>HARRIS: … Thank you.</td>\n",
       "    </tr>\n",
       "    <tr>\n",
       "      <th>2800</th>\n",
       "      <td>Do you believe in God?</td>\n",
       "    </tr>\n",
       "    <tr>\n",
       "      <th>2802</th>\n",
       "      <td>KENNEDY: I’m going to give you a last opportun...</td>\n",
       "    </tr>\n",
       "    <tr>\n",
       "      <th>2805</th>\n",
       "      <td>KENNEDY: Are Ms. Ramirez’s allegations about y...</td>\n",
       "    </tr>\n",
       "    <tr>\n",
       "      <th>2808</th>\n",
       "      <td>KENNEDY: Are Ms. Swetnick’s allegations, made ...</td>\n",
       "    </tr>\n",
       "    <tr>\n",
       "      <th>2810</th>\n",
       "      <td>KENNEDY: None of these allegations are true?</td>\n",
       "    </tr>\n",
       "    <tr>\n",
       "      <th>2812</th>\n",
       "      <td>KENNEDY: No doubt in your mind?</td>\n",
       "    </tr>\n",
       "    <tr>\n",
       "      <th>2814</th>\n",
       "      <td>KENNEDY: Not even a scintilla?</td>\n",
       "    </tr>\n",
       "    <tr>\n",
       "      <th>2816</th>\n",
       "      <td>KENNEDY: You swear to God?</td>\n",
       "    </tr>\n",
       "  </tbody>\n",
       "</table>\n",
       "<p>468 rows × 1 columns</p>\n",
       "</div>"
      ],
      "text/plain": [
       "                                                   body\n",
       "1309  Dr. Ford, Dr. Ford, I — I can only speak as on...\n",
       "1333                     RACHEL MITCHELL, STAFF COUNSEL\n",
       "1335  [*] GRASSLEY: Judge Kavanaugh, we welcome you....\n",
       "1341                        Would you please rise, sir?\n",
       "1343  GRASSLEY: Do you affirm that the testimony you...\n",
       "1345  GRASSLEY: Yeah. And like we — like we offered ...\n",
       "1446  I’d like to go over a couple of guidelines for...\n",
       "1448                 MITCHELL: OK. If I ask a question…\n",
       "1455  MITCHELL: And you have that, as well, Judge Ka...\n",
       "1457  MITCHELL: OK. First of all, have you been give...\n",
       "1459  MITCHELL: Has anyone told you the questions th...\n",
       "1462      MITCHELL: Have you had a chance to review it?\n",
       "1465  I’d like to point out two specific parts. Amon...\n",
       "1468  Dr. Ford has stated that somewhere between fiv...\n",
       "1470                     MITCHELL: How do you know him?\n",
       "1472  MITCHELL: What is your relationship with him l...\n",
       "1474      MITCHELL: And how did you know Patrick Smyth?\n",
       "1476  MITCHELL: What’s your relationship like with h...\n",
       "1478  MITCHELL: OK. Do you know Leland Ingham or Lel...\n",
       "1480  MITCHELL: Similar to your statements about kno...\n",
       "1484  FEINSTEIN: Judge Kavanaugh, it’s my understand...\n",
       "1486  FEINSTEIN: All three of these women have asked...\n",
       "1489      FEINSTEIN: And — and I’m — and I’m very (ph)…\n",
       "1491                  FEINSTEIN: … But the question is…\n",
       "1493  FEINSTEIN: … No (ph). And the terrible and har...\n",
       "1497  FEINSTEIN: Well, the difficult thing is that i...\n",
       "1499                     FEINSTEIN: … is what they say.\n",
       "1501                                   FEINSTEIN: Well…\n",
       "1503  FEINSTEIN: … And — and what you’re saying, if ...\n",
       "1505    FEINSTEIN: Would you like to say more about it?\n",
       "...                                                 ...\n",
       "2678              BOOKER: … she’s not a political pawn.\n",
       "2680  BOOKER: And — and — and I understand. But she ...\n",
       "2682  BOOKER: … Your family has gone through hell. H...\n",
       "2684  BOOKER: … You said — I’m sorry. So you said th...\n",
       "2687  She did coordinate in 2013, ’16, 2017, before ...\n",
       "2691  Do you think that people who believe Dr. Ford ...\n",
       "2693                              BOOKER: That is fair.\n",
       "2697  And — and that’s what I’m just asking you, is ...\n",
       "2753  GRASSLEY: Senator — or, Judge, since there was...\n",
       "2756  HARRIS: Thank you. Judge Kavanaugh, have you t...\n",
       "2758                     HARRIS: Thank you — thank you.\n",
       "2760                   HARRIS: So you’ve not taken one?\n",
       "2764  So I’m going to ask you one last time, are you...\n",
       "2766              HARRIS: And I’ve heard you say that —\n",
       "2768  HARRIS: But I’ve not heard you answer a very s...\n",
       "2770  HARRIS: Sir, it’s — I don’t want to debate wit...\n",
       "2772  HARRIS: Sir, as it relates to the recent alleg...\n",
       "2776  How do you reconcile your statement about a co...\n",
       "2778  HARRIS: OK. And then, do you agree that it is ...\n",
       "2782  HARRIS: I only have a few seconds left and I’l...\n",
       "2784            HARRIS: Thank you, I have nothing else…\n",
       "2786                               HARRIS: … Thank you.\n",
       "2800                             Do you believe in God?\n",
       "2802  KENNEDY: I’m going to give you a last opportun...\n",
       "2805  KENNEDY: Are Ms. Ramirez’s allegations about y...\n",
       "2808  KENNEDY: Are Ms. Swetnick’s allegations, made ...\n",
       "2810       KENNEDY: None of these allegations are true?\n",
       "2812                    KENNEDY: No doubt in your mind?\n",
       "2814                     KENNEDY: Not even a scintilla?\n",
       "2816                         KENNEDY: You swear to God?\n",
       "\n",
       "[468 rows x 1 columns]"
      ]
     },
     "execution_count": 50,
     "metadata": {},
     "output_type": "execute_result"
    }
   ],
   "source": [
    "ques = df.iloc[qindex]\n",
    "ques"
   ]
  },
  {
   "cell_type": "code",
   "execution_count": 53,
   "metadata": {},
   "outputs": [
    {
     "data": {
      "text/html": [
       "<div>\n",
       "<style scoped>\n",
       "    .dataframe tbody tr th:only-of-type {\n",
       "        vertical-align: middle;\n",
       "    }\n",
       "\n",
       "    .dataframe tbody tr th {\n",
       "        vertical-align: top;\n",
       "    }\n",
       "\n",
       "    .dataframe thead th {\n",
       "        text-align: right;\n",
       "    }\n",
       "</style>\n",
       "<table border=\"1\" class=\"dataframe\">\n",
       "  <thead>\n",
       "    <tr style=\"text-align: right;\">\n",
       "      <th></th>\n",
       "      <th>body</th>\n",
       "    </tr>\n",
       "  </thead>\n",
       "  <tbody>\n",
       "  </tbody>\n",
       "</table>\n",
       "</div>"
      ],
      "text/plain": [
       "Empty DataFrame\n",
       "Columns: [body]\n",
       "Index: []"
      ]
     },
     "execution_count": 53,
     "metadata": {},
     "output_type": "execute_result"
    }
   ],
   "source": [
    "pd.merge(kav, ques)"
   ]
  },
  {
   "cell_type": "code",
   "execution_count": 55,
   "metadata": {},
   "outputs": [
    {
     "name": "stdout",
     "output_type": "stream",
     "text": [
      "<class 'pandas.core.frame.DataFrame'>\n",
      "Int64Index: 468 entries, 1310 to 2817\n",
      "Data columns (total 1 columns):\n",
      "body    468 non-null object\n",
      "dtypes: object(1)\n",
      "memory usage: 27.3+ KB\n"
     ]
    }
   ],
   "source": [
    "kav.info()"
   ]
  },
  {
   "cell_type": "code",
   "execution_count": 56,
   "metadata": {},
   "outputs": [
    {
     "name": "stdout",
     "output_type": "stream",
     "text": [
      "<class 'pandas.core.frame.DataFrame'>\n",
      "Int64Index: 468 entries, 1309 to 2816\n",
      "Data columns (total 1 columns):\n",
      "body    468 non-null object\n",
      "dtypes: object(1)\n",
      "memory usage: 7.3+ KB\n"
     ]
    }
   ],
   "source": [
    "ques.info()"
   ]
  },
  {
   "cell_type": "code",
   "execution_count": 60,
   "metadata": {},
   "outputs": [],
   "source": [
    "kav_pol = []\n",
    "for i in kav.body:\n",
    "    text = TextBlob(i)\n",
    "    kav_pol.append(text.polarity)"
   ]
  },
  {
   "cell_type": "code",
   "execution_count": 68,
   "metadata": {},
   "outputs": [
    {
     "data": {
      "text/plain": [
       "(468, 2)"
      ]
     },
     "execution_count": 68,
     "metadata": {},
     "output_type": "execute_result"
    }
   ],
   "source": [
    "kav.shape"
   ]
  },
  {
   "cell_type": "code",
   "execution_count": 69,
   "metadata": {},
   "outputs": [
    {
     "data": {
      "text/plain": [
       "468"
      ]
     },
     "execution_count": 69,
     "metadata": {},
     "output_type": "execute_result"
    }
   ],
   "source": [
    "len(kav_pol)"
   ]
  },
  {
   "cell_type": "code",
   "execution_count": 73,
   "metadata": {},
   "outputs": [],
   "source": [
    "kav['Polarity'] = kav_pol"
   ]
  },
  {
   "cell_type": "code",
   "execution_count": 72,
   "metadata": {},
   "outputs": [],
   "source": [
    "kav = pd.DataFrame(kav)"
   ]
  },
  {
   "cell_type": "code",
   "execution_count": 74,
   "metadata": {},
   "outputs": [
    {
     "data": {
      "text/html": [
       "<div>\n",
       "<style scoped>\n",
       "    .dataframe tbody tr th:only-of-type {\n",
       "        vertical-align: middle;\n",
       "    }\n",
       "\n",
       "    .dataframe tbody tr th {\n",
       "        vertical-align: top;\n",
       "    }\n",
       "\n",
       "    .dataframe thead th {\n",
       "        text-align: right;\n",
       "    }\n",
       "</style>\n",
       "<table border=\"1\" class=\"dataframe\">\n",
       "  <thead>\n",
       "    <tr style=\"text-align: right;\">\n",
       "      <th></th>\n",
       "      <th>body</th>\n",
       "      <th>polarity</th>\n",
       "      <th>Polarity</th>\n",
       "    </tr>\n",
       "  </thead>\n",
       "  <tbody>\n",
       "    <tr>\n",
       "      <th>1310</th>\n",
       "      <td>SENATE JUDICIARY COMMITTEE HEARING ON THE NOMI...</td>\n",
       "      <td>0.5</td>\n",
       "      <td>0.5</td>\n",
       "    </tr>\n",
       "    <tr>\n",
       "      <th>1334</th>\n",
       "      <td>WITNESSES: JUDGE BRETT M. KAVANAUGH, NOMINATED...</td>\n",
       "      <td>0.0</td>\n",
       "      <td>0.0</td>\n",
       "    </tr>\n",
       "    <tr>\n",
       "      <th>1336</th>\n",
       "      <td>KAVANAUGH: I am.</td>\n",
       "      <td>0.0</td>\n",
       "      <td>0.0</td>\n",
       "    </tr>\n",
       "    <tr>\n",
       "      <th>1342</th>\n",
       "      <td>KAVANAUGH: Yes.</td>\n",
       "      <td>0.0</td>\n",
       "      <td>0.0</td>\n",
       "    </tr>\n",
       "    <tr>\n",
       "      <th>1344</th>\n",
       "      <td>KAVANAUGH: I do.</td>\n",
       "      <td>0.0</td>\n",
       "      <td>0.0</td>\n",
       "    </tr>\n",
       "  </tbody>\n",
       "</table>\n",
       "</div>"
      ],
      "text/plain": [
       "                                                   body  polarity  Polarity\n",
       "1310  SENATE JUDICIARY COMMITTEE HEARING ON THE NOMI...       0.5       0.5\n",
       "1334  WITNESSES: JUDGE BRETT M. KAVANAUGH, NOMINATED...       0.0       0.0\n",
       "1336                                   KAVANAUGH: I am.       0.0       0.0\n",
       "1342                                    KAVANAUGH: Yes.       0.0       0.0\n",
       "1344                                   KAVANAUGH: I do.       0.0       0.0"
      ]
     },
     "execution_count": 74,
     "metadata": {},
     "output_type": "execute_result"
    }
   ],
   "source": [
    "kav.head()"
   ]
  },
  {
   "cell_type": "code",
   "execution_count": 77,
   "metadata": {},
   "outputs": [],
   "source": [
    "kav.drop('polarity', axis = 1, inplace=True)"
   ]
  },
  {
   "cell_type": "code",
   "execution_count": 81,
   "metadata": {},
   "outputs": [],
   "source": [
    "polarizing = kav[kav['Polarity'] > 0.5]"
   ]
  },
  {
   "cell_type": "code",
   "execution_count": 84,
   "metadata": {},
   "outputs": [
    {
     "data": {
      "text/plain": [
       "'KAVANAUGH: We drank beer. We liked beer.'"
      ]
     },
     "execution_count": 84,
     "metadata": {},
     "output_type": "execute_result"
    }
   ],
   "source": [
    "polarizing.iloc[0]['body']"
   ]
  },
  {
   "cell_type": "code",
   "execution_count": 85,
   "metadata": {},
   "outputs": [
    {
     "data": {
      "text/plain": [
       "'KAVANAUGH: Well — well, he’s kept them, too, since 1978, so he’s a good role model.'"
      ]
     },
     "execution_count": 85,
     "metadata": {},
     "output_type": "execute_result"
    }
   ],
   "source": [
    "polarizing.iloc[1]['body']"
   ]
  },
  {
   "cell_type": "code",
   "execution_count": null,
   "metadata": {},
   "outputs": [],
   "source": []
  }
 ],
 "metadata": {
  "kernelspec": {
   "display_name": "Python 3",
   "language": "python",
   "name": "python3"
  },
  "language_info": {
   "codemirror_mode": {
    "name": "ipython",
    "version": 3
   },
   "file_extension": ".py",
   "mimetype": "text/x-python",
   "name": "python",
   "nbconvert_exporter": "python",
   "pygments_lexer": "ipython3",
   "version": "3.6.6"
  }
 },
 "nbformat": 4,
 "nbformat_minor": 2
}
