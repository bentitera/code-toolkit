{
 "cells": [
  {
   "cell_type": "code",
   "execution_count": 1,
   "metadata": {},
   "outputs": [],
   "source": [
    "%matplotlib inline\n",
    "import matplotlib.pyplot as plt\n",
    "import numpy as np\n",
    "import pandas as pd"
   ]
  },
  {
   "cell_type": "code",
   "execution_count": 6,
   "metadata": {},
   "outputs": [],
   "source": [
    "from sklearn.linear_model import LinearRegression\n",
    "from sklearn.datasets import load_boston"
   ]
  },
  {
   "cell_type": "code",
   "execution_count": 7,
   "metadata": {},
   "outputs": [],
   "source": [
    "boston = load_boston()"
   ]
  },
  {
   "cell_type": "code",
   "execution_count": 8,
   "metadata": {},
   "outputs": [
    {
     "name": "stdout",
     "output_type": "stream",
     "text": [
      "Boston House Prices dataset\n",
      "===========================\n",
      "\n",
      "Notes\n",
      "------\n",
      "Data Set Characteristics:  \n",
      "\n",
      "    :Number of Instances: 506 \n",
      "\n",
      "    :Number of Attributes: 13 numeric/categorical predictive\n",
      "    \n",
      "    :Median Value (attribute 14) is usually the target\n",
      "\n",
      "    :Attribute Information (in order):\n",
      "        - CRIM     per capita crime rate by town\n",
      "        - ZN       proportion of residential land zoned for lots over 25,000 sq.ft.\n",
      "        - INDUS    proportion of non-retail business acres per town\n",
      "        - CHAS     Charles River dummy variable (= 1 if tract bounds river; 0 otherwise)\n",
      "        - NOX      nitric oxides concentration (parts per 10 million)\n",
      "        - RM       average number of rooms per dwelling\n",
      "        - AGE      proportion of owner-occupied units built prior to 1940\n",
      "        - DIS      weighted distances to five Boston employment centres\n",
      "        - RAD      index of accessibility to radial highways\n",
      "        - TAX      full-value property-tax rate per $10,000\n",
      "        - PTRATIO  pupil-teacher ratio by town\n",
      "        - B        1000(Bk - 0.63)^2 where Bk is the proportion of blacks by town\n",
      "        - LSTAT    % lower status of the population\n",
      "        - MEDV     Median value of owner-occupied homes in $1000's\n",
      "\n",
      "    :Missing Attribute Values: None\n",
      "\n",
      "    :Creator: Harrison, D. and Rubinfeld, D.L.\n",
      "\n",
      "This is a copy of UCI ML housing dataset.\n",
      "http://archive.ics.uci.edu/ml/datasets/Housing\n",
      "\n",
      "\n",
      "This dataset was taken from the StatLib library which is maintained at Carnegie Mellon University.\n",
      "\n",
      "The Boston house-price data of Harrison, D. and Rubinfeld, D.L. 'Hedonic\n",
      "prices and the demand for clean air', J. Environ. Economics & Management,\n",
      "vol.5, 81-102, 1978.   Used in Belsley, Kuh & Welsch, 'Regression diagnostics\n",
      "...', Wiley, 1980.   N.B. Various transformations are used in the table on\n",
      "pages 244-261 of the latter.\n",
      "\n",
      "The Boston house-price data has been used in many machine learning papers that address regression\n",
      "problems.   \n",
      "     \n",
      "**References**\n",
      "\n",
      "   - Belsley, Kuh & Welsch, 'Regression diagnostics: Identifying Influential Data and Sources of Collinearity', Wiley, 1980. 244-261.\n",
      "   - Quinlan,R. (1993). Combining Instance-Based and Model-Based Learning. In Proceedings on the Tenth International Conference of Machine Learning, 236-243, University of Massachusetts, Amherst. Morgan Kaufmann.\n",
      "   - many more! (see http://archive.ics.uci.edu/ml/datasets/Housing)\n",
      "\n"
     ]
    }
   ],
   "source": [
    "print(boston.DESCR)"
   ]
  },
  {
   "cell_type": "code",
   "execution_count": 12,
   "metadata": {},
   "outputs": [],
   "source": [
    "housing = pd.DataFrame(boston.data, columns=boston.feature_names)"
   ]
  },
  {
   "cell_type": "code",
   "execution_count": 13,
   "metadata": {},
   "outputs": [
    {
     "data": {
      "text/html": [
       "<div>\n",
       "<style scoped>\n",
       "    .dataframe tbody tr th:only-of-type {\n",
       "        vertical-align: middle;\n",
       "    }\n",
       "\n",
       "    .dataframe tbody tr th {\n",
       "        vertical-align: top;\n",
       "    }\n",
       "\n",
       "    .dataframe thead th {\n",
       "        text-align: right;\n",
       "    }\n",
       "</style>\n",
       "<table border=\"1\" class=\"dataframe\">\n",
       "  <thead>\n",
       "    <tr style=\"text-align: right;\">\n",
       "      <th></th>\n",
       "      <th>CRIM</th>\n",
       "      <th>ZN</th>\n",
       "      <th>INDUS</th>\n",
       "      <th>CHAS</th>\n",
       "      <th>NOX</th>\n",
       "      <th>RM</th>\n",
       "      <th>AGE</th>\n",
       "      <th>DIS</th>\n",
       "      <th>RAD</th>\n",
       "      <th>TAX</th>\n",
       "      <th>PTRATIO</th>\n",
       "      <th>B</th>\n",
       "      <th>LSTAT</th>\n",
       "    </tr>\n",
       "  </thead>\n",
       "  <tbody>\n",
       "    <tr>\n",
       "      <th>0</th>\n",
       "      <td>0.00632</td>\n",
       "      <td>18.0</td>\n",
       "      <td>2.31</td>\n",
       "      <td>0.0</td>\n",
       "      <td>0.538</td>\n",
       "      <td>6.575</td>\n",
       "      <td>65.2</td>\n",
       "      <td>4.0900</td>\n",
       "      <td>1.0</td>\n",
       "      <td>296.0</td>\n",
       "      <td>15.3</td>\n",
       "      <td>396.90</td>\n",
       "      <td>4.98</td>\n",
       "    </tr>\n",
       "    <tr>\n",
       "      <th>1</th>\n",
       "      <td>0.02731</td>\n",
       "      <td>0.0</td>\n",
       "      <td>7.07</td>\n",
       "      <td>0.0</td>\n",
       "      <td>0.469</td>\n",
       "      <td>6.421</td>\n",
       "      <td>78.9</td>\n",
       "      <td>4.9671</td>\n",
       "      <td>2.0</td>\n",
       "      <td>242.0</td>\n",
       "      <td>17.8</td>\n",
       "      <td>396.90</td>\n",
       "      <td>9.14</td>\n",
       "    </tr>\n",
       "    <tr>\n",
       "      <th>2</th>\n",
       "      <td>0.02729</td>\n",
       "      <td>0.0</td>\n",
       "      <td>7.07</td>\n",
       "      <td>0.0</td>\n",
       "      <td>0.469</td>\n",
       "      <td>7.185</td>\n",
       "      <td>61.1</td>\n",
       "      <td>4.9671</td>\n",
       "      <td>2.0</td>\n",
       "      <td>242.0</td>\n",
       "      <td>17.8</td>\n",
       "      <td>392.83</td>\n",
       "      <td>4.03</td>\n",
       "    </tr>\n",
       "    <tr>\n",
       "      <th>3</th>\n",
       "      <td>0.03237</td>\n",
       "      <td>0.0</td>\n",
       "      <td>2.18</td>\n",
       "      <td>0.0</td>\n",
       "      <td>0.458</td>\n",
       "      <td>6.998</td>\n",
       "      <td>45.8</td>\n",
       "      <td>6.0622</td>\n",
       "      <td>3.0</td>\n",
       "      <td>222.0</td>\n",
       "      <td>18.7</td>\n",
       "      <td>394.63</td>\n",
       "      <td>2.94</td>\n",
       "    </tr>\n",
       "    <tr>\n",
       "      <th>4</th>\n",
       "      <td>0.06905</td>\n",
       "      <td>0.0</td>\n",
       "      <td>2.18</td>\n",
       "      <td>0.0</td>\n",
       "      <td>0.458</td>\n",
       "      <td>7.147</td>\n",
       "      <td>54.2</td>\n",
       "      <td>6.0622</td>\n",
       "      <td>3.0</td>\n",
       "      <td>222.0</td>\n",
       "      <td>18.7</td>\n",
       "      <td>396.90</td>\n",
       "      <td>5.33</td>\n",
       "    </tr>\n",
       "  </tbody>\n",
       "</table>\n",
       "</div>"
      ],
      "text/plain": [
       "      CRIM    ZN  INDUS  CHAS    NOX     RM   AGE     DIS  RAD    TAX  \\\n",
       "0  0.00632  18.0   2.31   0.0  0.538  6.575  65.2  4.0900  1.0  296.0   \n",
       "1  0.02731   0.0   7.07   0.0  0.469  6.421  78.9  4.9671  2.0  242.0   \n",
       "2  0.02729   0.0   7.07   0.0  0.469  7.185  61.1  4.9671  2.0  242.0   \n",
       "3  0.03237   0.0   2.18   0.0  0.458  6.998  45.8  6.0622  3.0  222.0   \n",
       "4  0.06905   0.0   2.18   0.0  0.458  7.147  54.2  6.0622  3.0  222.0   \n",
       "\n",
       "   PTRATIO       B  LSTAT  \n",
       "0     15.3  396.90   4.98  \n",
       "1     17.8  396.90   9.14  \n",
       "2     17.8  392.83   4.03  \n",
       "3     18.7  394.63   2.94  \n",
       "4     18.7  396.90   5.33  "
      ]
     },
     "execution_count": 13,
     "metadata": {},
     "output_type": "execute_result"
    }
   ],
   "source": [
    "housing.head()"
   ]
  },
  {
   "cell_type": "code",
   "execution_count": 11,
   "metadata": {},
   "outputs": [
    {
     "data": {
      "text/plain": [
       "array(['CRIM', 'ZN', 'INDUS', 'CHAS', 'NOX', 'RM', 'AGE', 'DIS', 'RAD',\n",
       "       'TAX', 'PTRATIO', 'B', 'LSTAT'], dtype='<U7')"
      ]
     },
     "execution_count": 11,
     "metadata": {},
     "output_type": "execute_result"
    }
   ],
   "source": [
    "boston.feature_names"
   ]
  },
  {
   "cell_type": "code",
   "execution_count": 14,
   "metadata": {},
   "outputs": [
    {
     "data": {
      "text/plain": [
       "<matplotlib.collections.PathCollection at 0x1a1b855f28>"
      ]
     },
     "execution_count": 14,
     "metadata": {},
     "output_type": "execute_result"
    },
    {
     "data": {
      "image/png": "[encoded data removed]",
      "text/plain": [
       "<Figure size 432x288 with 1 Axes>"
      ]
     },
     "metadata": {
      "needs_background": "light"
     },
     "output_type": "display_data"
    }
   ],
   "source": [
    "plt.scatter(housing['CRIM'], boston.target)"
   ]
  },
  {
   "cell_type": "code",
   "execution_count": 35,
   "metadata": {},
   "outputs": [],
   "source": [
    "lr = LinearRegression()"
   ]
  },
  {
   "cell_type": "code",
   "execution_count": 36,
   "metadata": {},
   "outputs": [],
   "source": [
    "X = housing['CRIM'].values.reshape(-1,1)\n",
    "y = boston.target"
   ]
  },
  {
   "cell_type": "code",
   "execution_count": 37,
   "metadata": {},
   "outputs": [
    {
     "data": {
      "text/plain": [
       "LinearRegression(copy_X=True, fit_intercept=True, n_jobs=1, normalize=False)"
      ]
     },
     "execution_count": 37,
     "metadata": {},
     "output_type": "execute_result"
    }
   ],
   "source": [
    "lr.fit(X, y)"
   ]
  },
  {
   "cell_type": "code",
   "execution_count": 38,
   "metadata": {},
   "outputs": [
    {
     "data": {
      "text/plain": [
       "array([15.7607261])"
      ]
     },
     "execution_count": 38,
     "metadata": {},
     "output_type": "execute_result"
    }
   ],
   "source": [
    "lr.predict(20)"
   ]
  },
  {
   "cell_type": "code",
   "execution_count": 39,
   "metadata": {},
   "outputs": [],
   "source": [
    "y1 = lr.predict(X)"
   ]
  },
  {
   "cell_type": "code",
   "execution_count": 40,
   "metadata": {},
   "outputs": [
    {
     "data": {
      "text/plain": [
       "[<matplotlib.lines.Line2D at 0x1a1c24d2e8>]"
      ]
     },
     "execution_count": 40,
     "metadata": {},
     "output_type": "execute_result"
    },
    {
     "data": {
      "image/png": "[encoded data removed]",
      "text/plain": [
       "<Figure size 432x288 with 1 Axes>"
      ]
     },
     "metadata": {
      "needs_background": "light"
     },
     "output_type": "display_data"
    }
   ],
   "source": [
    "plt.scatter(X, y)\n",
    "plt.plot(X, y1, color = 'red')"
   ]
  },
  {
   "cell_type": "code",
   "execution_count": 41,
   "metadata": {},
   "outputs": [],
   "source": [
    "X = housing['LSTAT'].values.reshape(-1,1)"
   ]
  },
  {
   "cell_type": "code",
   "execution_count": 42,
   "metadata": {},
   "outputs": [
    {
     "data": {
      "text/plain": [
       "LinearRegression(copy_X=True, fit_intercept=True, n_jobs=1, normalize=False)"
      ]
     },
     "execution_count": 42,
     "metadata": {},
     "output_type": "execute_result"
    }
   ],
   "source": [
    "lr.fit(X, y)"
   ]
  },
  {
   "cell_type": "code",
   "execution_count": 43,
   "metadata": {},
   "outputs": [
    {
     "data": {
      "text/plain": [
       "array([15.5528538])"
      ]
     },
     "execution_count": 43,
     "metadata": {},
     "output_type": "execute_result"
    }
   ],
   "source": [
    "lr.predict(20)"
   ]
  },
  {
   "cell_type": "code",
   "execution_count": 44,
   "metadata": {},
   "outputs": [
    {
     "data": {
      "text/plain": [
       "[<matplotlib.lines.Line2D at 0x1a1c309438>]"
      ]
     },
     "execution_count": 44,
     "metadata": {},
     "output_type": "execute_result"
    },
    {
     "data": {
      "image/png": "[encoded data removed]",
      "text/plain": [
       "<Figure size 432x288 with 1 Axes>"
      ]
     },
     "metadata": {
      "needs_background": "light"
     },
     "output_type": "display_data"
    }
   ],
   "source": [
    "y2 = lr.predict(X)\n",
    "plt.scatter(X, y)\n",
    "plt.plot(X, y2, color = 'red')"
   ]
  },
  {
   "cell_type": "code",
   "execution_count": 45,
   "metadata": {},
   "outputs": [
    {
     "data": {
      "text/plain": [
       "4.193978497823991e-12"
      ]
     },
     "execution_count": 45,
     "metadata": {},
     "output_type": "execute_result"
    }
   ],
   "source": [
    "sum(y2 - y)"
   ]
  },
  {
   "cell_type": "code",
   "execution_count": 46,
   "metadata": {},
   "outputs": [],
   "source": [
    "from sklearn.metrics import mean_squared_error"
   ]
  },
  {
   "cell_type": "code",
   "execution_count": 47,
   "metadata": {},
   "outputs": [
    {
     "data": {
      "text/plain": [
       "38.48296722989414"
      ]
     },
     "execution_count": 47,
     "metadata": {},
     "output_type": "execute_result"
    }
   ],
   "source": [
    "mean_squared_error(y2, y)"
   ]
  },
  {
   "cell_type": "code",
   "execution_count": 48,
   "metadata": {},
   "outputs": [
    {
     "data": {
      "text/plain": [
       "71.85234666526337"
      ]
     },
     "execution_count": 48,
     "metadata": {},
     "output_type": "execute_result"
    }
   ],
   "source": [
    "mean_squared_error(y1, y)"
   ]
  },
  {
   "cell_type": "code",
   "execution_count": 49,
   "metadata": {},
   "outputs": [
    {
     "data": {
      "text/plain": [
       "LinearRegression(copy_X=True, fit_intercept=True, n_jobs=1, normalize=False)"
      ]
     },
     "execution_count": 49,
     "metadata": {},
     "output_type": "execute_result"
    }
   ],
   "source": [
    "X = boston.data\n",
    "y = boston.target\n",
    "lr.fit(X, y)"
   ]
  },
  {
   "cell_type": "code",
   "execution_count": 50,
   "metadata": {},
   "outputs": [],
   "source": [
    "big_predict = lr.predict(X)"
   ]
  },
  {
   "cell_type": "code",
   "execution_count": 51,
   "metadata": {},
   "outputs": [
    {
     "data": {
      "text/plain": [
       "21.897779217687496"
      ]
     },
     "execution_count": 51,
     "metadata": {},
     "output_type": "execute_result"
    }
   ],
   "source": [
    "mean_squared_error(big_predict, y)"
   ]
  },
  {
   "cell_type": "code",
   "execution_count": 52,
   "metadata": {},
   "outputs": [],
   "source": [
    "from sklearn.model_selection import train_test_split"
   ]
  },
  {
   "cell_type": "code",
   "execution_count": 53,
   "metadata": {},
   "outputs": [],
   "source": [
    "X_train, X_test, y_train, y_test = train_test_split(X, y)"
   ]
  },
  {
   "cell_type": "code",
   "execution_count": 54,
   "metadata": {},
   "outputs": [
    {
     "data": {
      "text/plain": [
       "(379, 13)"
      ]
     },
     "execution_count": 54,
     "metadata": {},
     "output_type": "execute_result"
    }
   ],
   "source": [
    "X_train.shape"
   ]
  },
  {
   "cell_type": "code",
   "execution_count": 55,
   "metadata": {},
   "outputs": [
    {
     "data": {
      "text/plain": [
       "(127, 13)"
      ]
     },
     "execution_count": 55,
     "metadata": {},
     "output_type": "execute_result"
    }
   ],
   "source": [
    "X_test.shape"
   ]
  },
  {
   "cell_type": "code",
   "execution_count": 56,
   "metadata": {},
   "outputs": [
    {
     "data": {
      "text/plain": [
       "31.090049643404537"
      ]
     },
     "execution_count": 56,
     "metadata": {},
     "output_type": "execute_result"
    }
   ],
   "source": [
    "lr.fit(X_train, y_train)\n",
    "pred = lr.predict(X_test)\n",
    "mean_squared_error(pred, y_test)"
   ]
  },
  {
   "cell_type": "markdown",
   "metadata": {},
   "source": [
    "## YELP"
   ]
  },
  {
   "cell_type": "code",
   "execution_count": 57,
   "metadata": {},
   "outputs": [],
   "source": [
    "yelp = pd.read_csv('yelp.csv')"
   ]
  },
  {
   "cell_type": "code",
   "execution_count": 58,
   "metadata": {},
   "outputs": [
    {
     "name": "stdout",
     "output_type": "stream",
     "text": [
      "<class 'pandas.core.frame.DataFrame'>\n",
      "RangeIndex: 10000 entries, 0 to 9999\n",
      "Data columns (total 10 columns):\n",
      "business_id    10000 non-null object\n",
      "date           10000 non-null object\n",
      "review_id      10000 non-null object\n",
      "stars          10000 non-null int64\n",
      "text           10000 non-null object\n",
      "type           10000 non-null object\n",
      "user_id        10000 non-null object\n",
      "cool           10000 non-null int64\n",
      "useful         10000 non-null int64\n",
      "funny          10000 non-null int64\n",
      "dtypes: int64(4), object(6)\n",
      "memory usage: 781.3+ KB\n"
     ]
    }
   ],
   "source": [
    "yelp.info()"
   ]
  },
  {
   "cell_type": "code",
   "execution_count": 59,
   "metadata": {},
   "outputs": [
    {
     "data": {
      "text/plain": [
       "'My wife took me here on my birthday for breakfast and it was excellent.  The weather was perfect which made sitting outside overlooking their grounds an absolute pleasure.  Our waitress was excellent and our food arrived quickly on the semi-busy Saturday morning.  It looked like the place fills up pretty quickly so the earlier you get here the better.\\n\\nDo yourself a favor and get their Bloody Mary.  It was phenomenal and simply the best I\\'ve ever had.  I\\'m pretty sure they only use ingredients from their garden and blend them fresh when you order it.  It was amazing.\\n\\nWhile EVERYTHING on the menu looks excellent, I had the white truffle scrambled eggs vegetable skillet and it was tasty and delicious.  It came with 2 pieces of their griddled bread with was amazing and it absolutely made the meal complete.  It was the best \"toast\" I\\'ve ever had.\\n\\nAnyway, I can\\'t wait to go back!'"
      ]
     },
     "execution_count": 59,
     "metadata": {},
     "output_type": "execute_result"
    }
   ],
   "source": [
    "yelp.text[0]"
   ]
  },
  {
   "cell_type": "code",
   "execution_count": 60,
   "metadata": {},
   "outputs": [
    {
     "data": {
      "text/plain": [
       "5"
      ]
     },
     "execution_count": 60,
     "metadata": {},
     "output_type": "execute_result"
    }
   ],
   "source": [
    "yelp.stars[0]"
   ]
  },
  {
   "cell_type": "code",
   "execution_count": 61,
   "metadata": {},
   "outputs": [],
   "source": [
    "from sklearn.feature_extraction.text import CountVectorizer"
   ]
  },
  {
   "cell_type": "code",
   "execution_count": 66,
   "metadata": {},
   "outputs": [
    {
     "data": {
      "text/plain": [
       "<10000x300 sparse matrix of type '<class 'numpy.int64'>'\n",
       "\twith 208014 stored elements in Compressed Sparse Row format>"
      ]
     },
     "execution_count": 66,
     "metadata": {},
     "output_type": "execute_result"
    }
   ],
   "source": [
    "cvec = CountVectorizer(stop_words = 'english', max_features=300)\n",
    "cvec.fit_transform(yelp.text)"
   ]
  },
  {
   "cell_type": "code",
   "execution_count": 83,
   "metadata": {},
   "outputs": [
    {
     "data": {
      "text/plain": [
       "\"The food...delicious. The atmosphere...relaxing. The service...pretty spot-on. The pricing...ehhh, not my thing here. The only way I was able to eat here was because a family friend treated my family out. But if you're looking to spoil yourself or anyone you know, with food, this is the place to do it. \\n\\nI ordered the Chicken Romano (pan-seared with a blend of romano cheese & panko breadcrumbs, with lemon shallot butter, tomatoes, asparagus & yukon gold mashed potatoes). The chicken pan-seared with bread crumbs was great to eat, crispy on the outside and juicy on the inside.The asparagus... I've had better, but the yukon gold mashed potatoes were silky, buttery and made perfectly. They went well with the chicken romano.\\n\\nMy dad ordered the NY Strip, and they were kind of enough to cut it up for him since he was handicapped. They checked up on us frequently. THE ONLY THING I WOULD COMPLAIN ABOUT WAS THEY ACTUALLY CAME UP AND ASKED IF I WAS DONE (ALREADY GRABBING AT MY PLATE) WHEN THE FORK WAS STILL IN MY MOUTH BECAUSE APPARENTLY I WAS STILL EATING. Since that ruined my entire experience thus far, I just told them to take it.\\n\\nIn addition, the entire table got an order of the unlimited salad bar. The salad bar was great, but nothing like the choices offered at Souplantation. Also, because I ate the salad beforehand, I wasn't able to finish off the main entree I ordered. \\n\\nWill I be back? Probably not.\""
      ]
     },
     "execution_count": 83,
     "metadata": {},
     "output_type": "execute_result"
    }
   ],
   "source": [
    "yelp.iloc[9000]['text']"
   ]
  },
  {
   "cell_type": "code",
   "execution_count": null,
   "metadata": {},
   "outputs": [],
   "source": []
  },
  {
   "cell_type": "code",
   "execution_count": 74,
   "metadata": {},
   "outputs": [],
   "source": [
    "train = yelp.text[:9000]\n",
    "test = yelp.text[9000:]"
   ]
  },
  {
   "cell_type": "code",
   "execution_count": 77,
   "metadata": {},
   "outputs": [],
   "source": [
    "X = cvec.fit_transform(train)\n",
    "y_train = yelp.stars[:9000]\n",
    "y_test = yelp.stars[9000:]"
   ]
  },
  {
   "cell_type": "code",
   "execution_count": 79,
   "metadata": {},
   "outputs": [
    {
     "data": {
      "text/plain": [
       "LinearRegression(copy_X=True, fit_intercept=True, n_jobs=1, normalize=False)"
      ]
     },
     "execution_count": 79,
     "metadata": {},
     "output_type": "execute_result"
    }
   ],
   "source": [
    "lr = LinearRegression()\n",
    "lr.fit(X, y_train)"
   ]
  },
  {
   "cell_type": "code",
   "execution_count": 81,
   "metadata": {},
   "outputs": [
    {
     "data": {
      "text/plain": [
       "array([2.99215275, 4.02441806, 3.83251131, 3.81871049, 3.75402324,\n",
       "       2.31427833, 3.22815079, 4.87560016, 2.73971106, 4.37522649,\n",
       "       2.41262625, 4.00979108, 3.75936748, 3.98213272, 3.74246814,\n",
       "       2.79189531, 3.95739191, 4.59997881, 3.59200723, 4.00625973,\n",
       "       3.94811389, 3.70971437, 3.69683292, 3.8298689 , 4.74218584,\n",
       "       4.35454308, 4.07256449, 4.31835231, 4.03545573, 3.50500093,\n",
       "       4.21730452, 3.595915  , 3.80367046, 3.93533187, 3.71834773,\n",
       "       3.82973386, 3.15591325, 4.62095872, 3.78548423, 3.68449607,\n",
       "       3.82039516, 3.05555054, 3.07725667, 3.5296599 , 1.1253127 ,\n",
       "       3.47512586, 3.80375879, 4.09146449, 3.98477619, 3.69311833,\n",
       "       3.83624086, 3.4705323 , 3.69757275, 3.98970695, 3.61952996,\n",
       "       4.86870207, 3.37993879, 3.75329655, 3.1964814 , 3.28460096,\n",
       "       4.1512947 , 4.60714131, 4.1954835 , 3.12174455, 3.98374758,\n",
       "       2.83754095, 3.55012496, 3.3651354 , 3.79525731, 3.90791581,\n",
       "       3.74963377, 4.04715788, 4.25304434, 3.9367044 , 4.34406753,\n",
       "       5.21693452, 3.62322502, 5.01132589, 2.8736871 , 3.52286107,\n",
       "       3.80710235, 4.72564073, 3.45479685, 4.01496894, 3.57752102,\n",
       "       3.51697833, 4.05698259, 3.39450301, 3.79027679, 3.76312346,\n",
       "       4.47415713, 2.1798342 , 4.32081989, 3.48181272, 3.66234785,\n",
       "       2.71534503, 3.5227451 , 2.67642417, 3.18659434, 3.3680888 ,\n",
       "       4.77605442, 3.48618326, 3.48406596, 3.42373731, 4.05654385,\n",
       "       4.2665134 , 2.8978175 , 4.19385135, 3.92323976, 2.64736149,\n",
       "       4.0755462 , 3.17208733, 4.93442239, 3.34127076, 3.72328447,\n",
       "       4.08904213, 4.00306399, 3.20800692, 3.6671278 , 4.03396529,\n",
       "       4.11454679, 3.8210484 , 4.19395428, 4.00282574, 4.39141216,\n",
       "       3.42490345, 3.83310195, 4.32379406, 3.81455166, 3.31833732,\n",
       "       2.72727503, 4.45309045, 3.75938064, 3.66388477, 3.81223615,\n",
       "       4.34213895, 3.99150858, 4.11233868, 4.14813355, 3.92123903,\n",
       "       4.18710809, 2.22055787, 4.52302755, 3.83347413, 4.26935263,\n",
       "       4.72279868, 3.35534247, 3.82301888, 4.48432397, 3.88832131,\n",
       "       3.84481417, 2.58927342, 3.80813372, 3.93761519, 3.55962447,\n",
       "       4.56617831, 3.83959452, 4.03482368, 3.89691952, 3.65222779,\n",
       "       4.17684419, 4.12175408, 3.58106304, 3.63011198, 3.84276134,\n",
       "       4.12723153, 3.34691926, 3.49421856, 2.03210185, 3.7119877 ,\n",
       "       3.73510101, 3.32779316, 3.90208921, 4.22839102, 2.8598686 ,\n",
       "       2.72843384, 3.69325094, 3.76129548, 3.83344111, 3.55969056,\n",
       "       4.32719546, 3.42472906, 3.91702623, 3.85824053, 4.17883722,\n",
       "       3.74473305, 4.26248612, 2.64934351, 4.27281173, 4.11291101,\n",
       "       3.94564676, 4.09661304, 3.4718381 , 5.09224637, 3.77281338,\n",
       "       3.49605455, 3.71680728, 3.99866783, 3.84337011, 2.58668073,\n",
       "       3.83325642, 2.97582521, 4.17923275, 3.69487398, 3.92835982,\n",
       "       4.33264619, 3.88450928, 3.76266517, 2.90506075, 2.1783062 ,\n",
       "       4.1188263 , 3.41216879, 4.0439884 , 3.68429987, 5.71421025,\n",
       "       4.27172007, 3.46964924, 3.38910749, 3.76580655, 4.337453  ,\n",
       "       3.99938346, 4.90331866, 4.31621214, 4.4989783 , 3.04258055,\n",
       "       4.68610393, 3.98527009, 3.67647666, 3.91788157, 3.64227685,\n",
       "       2.38217507, 3.85587147, 3.25261469, 4.85127966, 3.30220968,\n",
       "       3.66991028, 3.61657538, 4.33128705, 3.77311111, 3.63020878,\n",
       "       3.35266507, 3.41468567, 3.86884955, 3.48162731, 3.33375269,\n",
       "       3.98510749, 3.84751461, 4.07229183, 3.13386739, 4.22035084,\n",
       "       4.12856047, 5.15859451, 4.93187635, 3.21577266, 3.45108892,\n",
       "       4.18115812, 4.08977074, 3.82123452, 4.06024714, 4.93930319,\n",
       "       3.63998   , 3.87595946, 3.88767493, 3.73756431, 3.79415243,\n",
       "       4.43911159, 3.77115152, 7.51301052, 3.73163573, 3.58897461,\n",
       "       3.68609842, 4.23458574, 4.92726447, 4.85631408, 3.73586792,\n",
       "       3.81135981, 4.14558267, 2.34735767, 3.9958217 , 4.6065509 ,\n",
       "       4.36255903, 3.50533717, 3.84027205, 4.03429009, 4.25793316,\n",
       "       3.85178847, 4.22298931, 4.46061369, 2.71503856, 3.4178181 ,\n",
       "       3.02139599, 1.85133441, 3.47970183, 3.65423855, 3.28012701,\n",
       "       3.7267806 , 4.04519289, 3.89040737, 3.94485219, 3.84193179,\n",
       "       3.50734961, 3.97841221, 3.49760169, 4.3164921 , 3.84894237,\n",
       "       3.7893329 , 3.1049097 , 4.59739521, 2.80120276, 3.93042811,\n",
       "       3.98818788, 4.87949996, 4.0192404 , 3.71555884, 3.46462476,\n",
       "       3.80772015, 2.87687185, 4.27918071, 3.10090769, 3.2321153 ,\n",
       "       3.05029614, 3.95290905, 4.1596227 , 4.36633465, 4.76510375,\n",
       "       3.67185017, 3.61056436, 3.46317114, 4.34218243, 4.19490258,\n",
       "       3.62171059, 3.49406772, 6.32854996, 4.35684785, 3.79128172,\n",
       "       4.52407069, 3.96185175, 3.14713819, 3.99314031, 4.79509181,\n",
       "       4.06177619, 2.81087842, 3.849867  , 4.01659454, 3.07372311,\n",
       "       3.11007471, 3.79516921, 2.55669138, 4.14283179, 4.11311269,\n",
       "       4.81080861, 3.53477543, 3.17473929, 4.50506293, 3.8112938 ,\n",
       "       3.83915305, 2.74959481, 3.19232887, 3.64066165, 4.04884938,\n",
       "       3.93866479, 3.95898815, 3.40155372, 3.83448881, 3.93487804,\n",
       "       4.13970633, 4.06634224, 4.09463235, 4.72559985, 3.65947807,\n",
       "       3.76709969, 2.54774217, 3.99701745, 2.84682834, 3.87346226,\n",
       "       3.21741297, 4.10055982, 3.54405394, 3.15774102, 3.52831852,\n",
       "       3.58025375, 3.50168209, 3.25007738, 2.79597999, 3.81191577,\n",
       "       4.55670194, 3.95738336, 3.45810595, 3.23382639, 2.74637763,\n",
       "       3.98470721, 3.15862928, 4.18541281, 4.21372271, 4.54647556,\n",
       "       3.55179746, 3.73833258, 3.29630543, 4.15929332, 3.52866713,\n",
       "       2.58226122, 3.38509977, 3.11825396, 3.72012759, 3.16501737,\n",
       "       3.65319973, 3.65937474, 4.62214171, 4.61809619, 3.79753859,\n",
       "       3.54686255, 3.65240253, 3.12223974, 3.97588681, 3.82361934,\n",
       "       3.11582739, 3.91887885, 4.30014139, 4.55476114, 3.67992927,\n",
       "       3.50489004, 3.42557531, 2.35781182, 3.31748736, 3.71799956,\n",
       "       3.4031415 , 3.82125483, 4.3893391 , 3.40503233, 3.5174054 ,\n",
       "       3.99074297, 4.12649342, 2.7913309 , 3.74814177, 4.37998316,\n",
       "       3.62602196, 4.43340719, 3.15446095, 3.46766169, 3.80869421,\n",
       "       3.84063739, 3.06574435, 4.2962099 , 4.87703387, 4.63617377,\n",
       "       5.22024186, 3.43452612, 3.6073832 , 3.93850505, 4.45986153,\n",
       "       3.75369459, 3.57567964, 3.89976249, 3.44810321, 4.48585146,\n",
       "       3.44393282, 3.48274646, 3.81727779, 4.28734999, 3.77009879,\n",
       "       3.73295158, 2.63485216, 3.80892687, 3.00534187, 3.79196316,\n",
       "       2.47241098, 3.57753126, 3.6214499 , 4.10079509, 2.99469744,\n",
       "       4.11631082, 3.7899998 , 2.98050919, 3.3030819 , 4.133074  ,\n",
       "       3.88981973, 6.61734514, 3.75335324, 3.72521354, 3.00235931,\n",
       "       4.3279094 , 4.07568318, 4.15465161, 3.20681515, 4.77330564,\n",
       "       4.2551113 , 4.5692917 , 3.96567057, 3.20030433, 3.80635588,\n",
       "       3.49097355, 4.01897784, 3.79940883, 3.61415392, 4.09034822,\n",
       "       3.74793773, 4.04618696, 3.68502195, 2.53233235, 3.82446452,\n",
       "       3.8450075 , 5.64258846, 3.42453552, 3.95843469, 4.10145065,\n",
       "       4.91178469, 3.98124904, 3.88220819, 3.66557452, 3.60529123,\n",
       "       3.22417201, 3.11003262, 4.08117622, 3.90088015, 3.57424389,\n",
       "       3.60083031, 4.4100578 , 3.47534845, 3.17084397, 4.39976833,\n",
       "       2.36295643, 4.31855093, 4.25783357, 4.22359766, 3.71949983,\n",
       "       3.81189134, 3.56418935, 3.29637826, 3.88736606, 2.65304596,\n",
       "       4.82199971, 3.94326637, 4.26773916, 3.83881738, 3.76141364,\n",
       "       3.66484816, 3.32889859, 2.60484424, 3.37689832, 4.68905046,\n",
       "       3.13198775, 3.77776585, 4.0127504 , 3.33134553, 3.92330874,\n",
       "       4.0283858 , 3.67023422, 3.11461233, 4.01259074, 4.15190114,\n",
       "       3.57177264, 5.07479241, 4.49701865, 3.75903365, 3.57221142,\n",
       "       3.39348581, 4.41205161, 4.19736969, 3.31254948, 3.90613048,\n",
       "       3.62726581, 3.41080422, 3.86345089, 3.59816676, 3.52159184,\n",
       "       3.5418659 , 3.3108533 , 4.42788003, 2.71018414, 3.60352583,\n",
       "       4.21298618, 3.74451066, 4.5457864 , 3.28040155, 4.20442791,\n",
       "       3.93855561, 3.67391752, 3.9805312 , 4.35803235, 3.46197988,\n",
       "       3.63102486, 2.73630412, 4.50016575, 3.63202065, 2.36649061,\n",
       "       4.13887984, 3.65170797, 3.93825686, 3.33278864, 4.26469695,\n",
       "       4.21905448, 3.84424169, 4.35001645, 3.82148531, 4.04831178,\n",
       "       3.19957618, 3.85238347, 4.38943841, 2.88161652, 4.63287983,\n",
       "       4.51963902, 4.79989226, 3.88558611, 3.92427357, 3.82591488,\n",
       "       3.42259261, 3.27125896, 2.95392915, 3.49143557, 3.43082992,\n",
       "       4.22005398, 4.70607587, 4.39650814, 3.25991173, 4.40929506,\n",
       "       3.79152974, 3.16811908, 4.20546654, 2.79381778, 5.32154344,\n",
       "       4.06442307, 3.27803676, 3.78521615, 3.70578831, 3.50497148,\n",
       "       3.62019266, 3.37167076, 2.80625965, 3.6573267 , 3.86594319,\n",
       "       4.46180217, 3.83264319, 3.90307433, 4.31881734, 2.65291657,\n",
       "       3.68066468, 3.44925089, 3.70788111, 3.99493165, 3.98121192,\n",
       "       4.3160962 , 4.13489635, 3.64356917, 4.39109824, 3.82337206,\n",
       "       3.36223605, 3.85856946, 3.21264177, 3.10195062, 4.59148352,\n",
       "       3.37888457, 3.46811585, 3.84353356, 3.57781185, 3.5865296 ,\n",
       "       3.43886452, 4.2229879 , 4.58742609, 2.28459316, 4.71831736,\n",
       "       2.73211847, 2.99833183, 3.22558614, 5.07732329, 4.4270177 ,\n",
       "       4.58838837, 3.75151226, 3.03592364, 4.37697107, 3.74717197,\n",
       "       3.58397186, 4.67659167, 4.61347799, 3.9609172 , 3.80777579,\n",
       "       3.53490997, 2.49319297, 3.60919861, 4.66551363, 3.60943872,\n",
       "       3.06695156, 3.95839922, 3.27467666, 3.71723611, 4.16980391,\n",
       "       3.90857728, 3.57523781, 3.599456  , 3.77311111, 5.59623916,\n",
       "       3.98738419, 4.01267687, 3.93837836, 3.65723415, 4.12440943,\n",
       "       3.19788812, 3.94495434, 3.070595  , 4.10970744, 2.99575612,\n",
       "       3.58809277, 3.60317197, 3.18137531, 3.98399013, 3.44054531,\n",
       "       3.61798343, 3.6379084 , 4.01342846, 4.06854624, 2.22539335,\n",
       "       3.88808563, 4.67690653, 3.41907784, 3.76544581, 3.47986641,\n",
       "       3.82735685, 4.18413174, 3.95185817, 3.96429093, 4.3568634 ,\n",
       "       4.18968982, 3.92610025, 4.10484977, 4.0481574 , 3.38283228,\n",
       "       4.72734859, 3.32355262, 3.70305684, 3.67981934, 4.02618099,\n",
       "       2.93302204, 3.49160788, 3.9959442 , 3.75933036, 3.13165936,\n",
       "       3.24961172, 3.84911187, 4.46347702, 3.48880502, 3.80154397,\n",
       "       3.72677785, 3.53444263, 2.67774325, 3.40938958, 3.61598595,\n",
       "       3.28209609, 3.40782423, 3.55294169, 3.67743997, 3.96669112,\n",
       "       3.77329669, 4.62689936, 3.2797331 , 4.35486998, 3.8979001 ,\n",
       "       4.09191718, 2.9876237 , 3.94517533, 3.96025275, 4.62997957,\n",
       "       3.02249223, 3.79113062, 3.86113071, 3.15801568, 4.03223562,\n",
       "       4.06089872, 3.93769819, 2.79313398, 4.01677206, 3.48509524,\n",
       "       3.8032388 , 4.56409597, 3.84683059, 2.99033179, 4.15874615,\n",
       "       3.59513287, 4.06009986, 3.86323458, 4.07630685, 3.44717633,\n",
       "       3.63960546, 3.79208689, 3.62746816, 3.71767083, 3.62492849,\n",
       "       3.54109481, 3.68045121, 3.20783936, 3.67731519, 3.77311111,\n",
       "       4.22335041, 3.9378527 , 3.89709674, 3.89655375, 3.60423771,\n",
       "       3.98137374, 4.37262511, 4.23581639, 3.70403917, 4.42528384,\n",
       "       4.46695868, 3.55144402, 4.88856696, 4.30369049, 3.82438367,\n",
       "       3.68410883, 3.21730914, 3.51784361, 2.93583746, 3.79538946,\n",
       "       3.79451937, 3.6452582 , 4.86393399, 3.50232319, 3.89733813,\n",
       "       3.89501278, 4.30266395, 3.26670595, 4.75104082, 3.27457635,\n",
       "       4.11514376, 4.1507633 , 3.15909119, 3.60656027, 4.26767488,\n",
       "       3.00363766, 4.32845706, 3.77233461, 3.58923606, 4.98484272,\n",
       "       3.60588132, 3.21771493, 1.99217464, 4.17019941, 3.91007692,\n",
       "       4.11047624, 3.44400176, 4.44684601, 3.9308795 , 3.38357962,\n",
       "       2.76681932, 3.6941949 , 3.96629279, 3.0123477 , 3.56208901,\n",
       "       3.95709895, 3.94217139, 2.58651748, 3.5359357 , 3.07564064,\n",
       "       3.66397953, 4.59165551, 3.91293567, 3.67392202, 4.40506471,\n",
       "       3.74220763, 3.02209709, 3.91776538, 3.79961341, 3.89339149,\n",
       "       3.54249032, 4.32558183, 4.63657091, 3.42982707, 2.62631677,\n",
       "       2.83071211, 4.56308642, 3.90970716, 3.83505664, 3.60012287,\n",
       "       3.91857971, 3.78619583, 1.94929787, 4.07043228, 3.75436743,\n",
       "       3.27365829, 4.23144014, 2.46651877, 5.08187342, 3.75856565,\n",
       "       3.46989609, 4.77524614, 3.65713149, 3.94906365, 3.80385107,\n",
       "       3.0945645 , 4.01311314, 3.85578537, 3.73084816, 3.88854113,\n",
       "       4.37523393, 4.72549882, 3.88173913, 3.70483427, 3.48918526,\n",
       "       3.96627734, 3.38220176, 3.79323699, 3.62202987, 3.72550608,\n",
       "       4.24449108, 4.40716814, 3.93532579, 3.58586489, 3.85940808,\n",
       "       3.48913414, 3.29965487, 4.34451974, 3.70893922, 3.04276717,\n",
       "       3.40662533, 2.67775908, 3.97599225, 4.22822076, 4.63854695,\n",
       "       4.13189121, 3.93787289, 3.11040785, 4.06570147, 3.57463038,\n",
       "       3.78031574, 4.18061208, 4.04168575, 3.75947099, 3.755631  ,\n",
       "       3.43498386, 3.97291483, 3.37876596, 3.87955092, 3.65901782,\n",
       "       2.99468793, 5.01312517, 3.65602218, 3.72509565, 3.83189332,\n",
       "       3.77444973, 3.40666265, 3.6020646 , 3.47215468, 3.81576591,\n",
       "       4.64213231, 3.66373171, 4.01317797, 3.42437429, 3.30490612,\n",
       "       1.83195295, 3.44580244, 3.76101794, 3.92599306, 3.83831655,\n",
       "       2.69874676, 3.406273  , 4.28233997, 4.00567301, 0.17046188,\n",
       "       4.42375241, 4.26129206, 3.41924209, 3.81085839, 3.42247584,\n",
       "       3.66016504, 3.40308608, 4.25605212, 3.3284908 , 3.74585741,\n",
       "       3.48074654, 3.81959698, 4.53269939, 3.08933982, 3.31015871,\n",
       "       3.91786472, 3.77718998, 3.48217254, 3.84673037, 3.77558757,\n",
       "       3.51740906, 3.43744184, 2.4990805 , 2.7538765 , 3.97535546,\n",
       "       4.18514596, 3.56285603, 3.91860327, 3.56679347, 4.80918939,\n",
       "       3.73895611, 3.86083507, 3.60048158, 3.78376906, 4.1273319 ,\n",
       "       4.33809769, 4.0937189 , 2.99944595, 4.17704179, 4.20033729,\n",
       "       4.33509477, 3.71989143, 4.05563384, 3.81712223, 3.20322103])"
      ]
     },
     "execution_count": 81,
     "metadata": {},
     "output_type": "execute_result"
    }
   ],
   "source": [
    "lr.predict(cvec.fit_transform(test))"
   ]
  },
  {
   "cell_type": "code",
   "execution_count": null,
   "metadata": {},
   "outputs": [],
   "source": []
  },
  {
   "cell_type": "code",
   "execution_count": null,
   "metadata": {},
   "outputs": [],
   "source": []
  },
  {
   "cell_type": "code",
   "execution_count": null,
   "metadata": {},
   "outputs": [],
   "source": []
  },
  {
   "cell_type": "code",
   "execution_count": null,
   "metadata": {},
   "outputs": [],
   "source": []
  },
  {
   "cell_type": "code",
   "execution_count": null,
   "metadata": {},
   "outputs": [],
   "source": []
  },
  {
   "cell_type": "code",
   "execution_count": null,
   "metadata": {},
   "outputs": [],
   "source": []
  },
  {
   "cell_type": "code",
   "execution_count": null,
   "metadata": {},
   "outputs": [],
   "source": []
  }
 ],
 "metadata": {
  "kernelspec": {
   "display_name": "Python 3",
   "language": "python",
   "name": "python3"
  },
  "language_info": {
   "codemirror_mode": {
    "name": "ipython",
    "version": 3
   },
   "file_extension": ".py",
   "mimetype": "text/x-python",
   "name": "python",
   "nbconvert_exporter": "python",
   "pygments_lexer": "ipython3",
   "version": "3.7.0"
  }
 },
 "nbformat": 4,
 "nbformat_minor": 2
}
